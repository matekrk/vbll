{
 "cells": [
  {
   "cell_type": "markdown",
   "metadata": {},
   "source": [
    "# Bayesian NN with Laplace Approximations - Binary Classification"
   ]
  },
  {
   "cell_type": "markdown",
   "metadata": {},
   "source": [
    "The goal of this notebook is to showcase that we can get a better uncertainty quantification via a simple last-layer approximate Bayesian technique. The idea of the method used is as follows: Suppose we have an $L$-layer MAP-trained (deep) ReLU network, we apply a Laplace approximation at **only** the last-layer of the network. That is, the first $L-1$ layers are treated as a fixed feature map $\\phi$ and the last-layer is treated as a Bayesian logistic regression with posterior $\\mathcal{N}(w^L \\mid \\mu, \\Sigma)$. Since we use a Laplace approximation, we set $\\mu := w^L_\\text{MAP}$ and $\\Sigma := -\\nabla^2_{w^L} \\log p(w^L \\mid D)$, where $D$ is the training dataset. More details will be discussed when we are looking at the actual Laplace approximation code."
   ]
  },
  {
   "cell_type": "code",
   "execution_count": 1,
   "metadata": {},
   "outputs": [],
   "source": [
    "%load_ext autoreload\n",
    "%autoreload 2\n",
    "\n",
    "import torch\n",
    "import torch.nn as nn\n",
    "import torch.optim as optim\n",
    "import torch.nn.functional as F\n",
    "import numpy as np\n",
    "import matplotlib\n",
    "import matplotlib.cm as cm\n",
    "from sklearn import datasets\n",
    "from math import *\n",
    "import seaborn as sns; sns.set_style('white')\n",
    "\n",
    "%matplotlib inline\n",
    "matplotlib.rcParams['figure.figsize'] = (5, 5)\n",
    "matplotlib.rcParams['font.size'] = 14\n",
    "matplotlib.rcParams['font.family'] = \"serif\"\n",
    "matplotlib.rcParams['font.serif'] = 'Times'\n",
    "matplotlib.rcParams['text.usetex'] = True\n",
    "matplotlib.rcParams['lines.linewidth'] = 1.0\n",
    "plt = matplotlib.pyplot"
   ]
  },
  {
   "cell_type": "markdown",
   "metadata": {},
   "source": [
    "First, we create a toy binary classification dataset $D$."
   ]
  },
  {
   "cell_type": "code",
   "execution_count": 2,
   "metadata": {},
   "outputs": [
    {
     "data": {
      "image/png": "[encoded data removed]",
      "text/plain": [
       "<Figure size 360x360 with 1 Axes>"
      ]
     },
     "metadata": {
      "needs_background": "light"
     },
     "output_type": "display_data"
    }
   ],
   "source": [
    "np.random.seed(7777)\n",
    "size = 90\n",
    "train_range = (4, 7.5)\n",
    "\n",
    "\n",
    "X, Y = datasets.make_blobs(n_samples=size, centers=2, cluster_std=0.7, \n",
    "                           center_box=train_range, random_state=62)\n",
    "\n",
    "test_range = (0, 10)\n",
    "\n",
    "plt.scatter(X[Y==0][:, 0], X[Y==0][:, 1], c='coral', edgecolors='k', linewidths=0.5)\n",
    "plt.scatter(X[Y==1][:, 0], X[Y==1][:, 1], c='yellow', edgecolors='k', linewidths=0.5)\n",
    "plt.xlim(test_range);\n",
    "plt.ylim(test_range);"
   ]
  },
  {
   "cell_type": "markdown",
   "metadata": {},
   "source": [
    "We will use a three-layer ReLU network and train it using maximum likelihood with weight decay. Note that the weight decay strength can be seen as the Gaussian prior's precision. This is a crucial bit of information for doing the Laplace approximation later on."
   ]
  },
  {
   "cell_type": "code",
   "execution_count": 3,
   "metadata": {},
   "outputs": [
    {
     "name": "stdout",
     "output_type": "stream",
     "text": [
      "Loss: 0.030\n"
     ]
    }
   ],
   "source": [
    "torch.manual_seed(7777)\n",
    "\n",
    "m, n = X.shape\n",
    "h = 20  # num. hidden units per layer\n",
    "k = 1  # num. of output unit\n",
    "\n",
    "\n",
    "class Model(nn.Module):\n",
    "    \n",
    "    def __init__(self):\n",
    "        super(Model, self).__init__()\n",
    "\n",
    "        self.feature_map = nn.Sequential(\n",
    "            nn.Linear(n, h),\n",
    "            nn.BatchNorm1d(h),\n",
    "            nn.ReLU(), \n",
    "            nn.Linear(h, h), \n",
    "            nn.BatchNorm1d(h),\n",
    "            nn.ReLU()\n",
    "        )\n",
    "\n",
    "        self.clf = nn.Linear(h, 1, bias=False)\n",
    "    \n",
    "    def forward(self, x):\n",
    "        x = self.feature_map(x)\n",
    "        return self.clf(x)\n",
    "    \n",
    "    \n",
    "X_train = torch.from_numpy(X).float()\n",
    "y_train = torch.from_numpy(Y).float()\n",
    "    \n",
    "model = Model()\n",
    "opt = optim.SGD(model.parameters(), lr=1e-3, momentum=0.9, weight_decay=5e-4)\n",
    "\n",
    "for it in range(5000):\n",
    "    y_pred = model(X_train).squeeze()\n",
    "    l = F.binary_cross_entropy_with_logits(y_pred, y_train)\n",
    "    l.backward()\n",
    "    opt.step()\n",
    "    opt.zero_grad()\n",
    "        \n",
    "print(f'Loss: {l.item():.3f}')"
   ]
  },
  {
   "cell_type": "markdown",
   "metadata": {},
   "source": [
    "Here's a plotting function to visualize our results."
   ]
  },
  {
   "cell_type": "code",
   "execution_count": 4,
   "metadata": {},
   "outputs": [],
   "source": [
    "def plot(X, Y, X1_test, X2_test, py, conf, size=120):    \n",
    "    ims = []\n",
    "    cmap = 'Blues'\n",
    "    \n",
    "    plt.figure(figsize=(6, 5))\n",
    "        \n",
    "    # Decision boundary contour\n",
    "    plt.contour(X1_test, X2_test, py.reshape(size, size), levels=[0.5], colors='black', linewidths=[3])\n",
    "\n",
    "    # Background shade, representing confidence\n",
    "    conf = np.clip(conf, 0, 0.999999)\n",
    "    im = plt.contourf(X1_test, X2_test, conf.reshape(size, size), alpha=0.7, \n",
    "                      levels=np.arange(0.5, 1.01, 0.1), cmap=cmap, vmin=0.5, vmax=1)\n",
    "    plt.colorbar(im)\n",
    "\n",
    "    # Scatter plot the training data\n",
    "    plt.scatter(X[Y==0][:, 0], X[Y==0][:, 1], c='coral', edgecolors='k', linewidths=0.5)\n",
    "    plt.scatter(X[Y==1][:, 0], X[Y==1][:, 1], c='yellow', edgecolors='k', linewidths=0.5)\n",
    "\n",
    "    plt.xlim(test_range);\n",
    "    plt.ylim(test_range);\n",
    "    plt.xticks([])\n",
    "    plt.yticks([])\n",
    "\n",
    "    plt.show();"
   ]
  },
  {
   "cell_type": "markdown",
   "metadata": {},
   "source": [
    "And here's a test dataset, which is just evenly-spaced points in some region of the domain, since we want to predict the confidence of the whole region."
   ]
  },
  {
   "cell_type": "code",
   "execution_count": 5,
   "metadata": {},
   "outputs": [],
   "source": [
    "# Test data\n",
    "size = 50\n",
    "test_range = (0, 10)\n",
    "test_rng = np.linspace(*test_range, size)\n",
    "\n",
    "X1_test, X2_test = np.meshgrid(test_rng, test_rng)\n",
    "X_test = np.stack([X1_test.ravel(), X2_test.ravel()]).T\n",
    "X_test = torch.from_numpy(X_test).float()"
   ]
  },
  {
   "cell_type": "markdown",
   "metadata": {},
   "source": [
    "This is the confidence plot (defined as the maximum probability of each prediction) of the model. This is what we are familiar with and use all the time in deep learning. Notice how the confidence is high (close to one) almost everywhere. Do you think this is a good prediction? Why or why not?"
   ]
  },
  {
   "cell_type": "code",
   "execution_count": 6,
   "metadata": {},
   "outputs": [
    {
     "data": {
      "image/png": "[encoded data removed]",
      "text/plain": [
       "<Figure size 432x360 with 2 Axes>"
      ]
     },
     "metadata": {
      "needs_background": "light"
     },
     "output_type": "display_data"
    }
   ],
   "source": [
    "model.eval()\n",
    "\n",
    "\n",
    "def sigmoid(x):\n",
    "    return 1/(1+np.exp(-x))\n",
    "\n",
    "\n",
    "with torch.no_grad():\n",
    "    model.eval()\n",
    "    py = sigmoid(model(X_test).squeeze().numpy())\n",
    "    \n",
    "conf = np.maximum(py, 1-py)\n",
    "\n",
    "plot(X, Y, X1_test, X2_test, py, conf, size=size)"
   ]
  },
  {
   "cell_type": "markdown",
   "metadata": {},
   "source": [
    "Now, let's see whether we can incorporate the model's uncertainty into the prediction. That is, we want to infer the posterior, and use it to marginalize the prediction:\n",
    "\n",
    "$$\n",
    "    p(y = 1 \\mid x) = \\int \\sigma(f_\\theta(x)) \\, p(\\theta \\mid D) \\, d\\theta \\, , \n",
    "$$\n",
    "\n",
    "where $f_\\theta$ is our ReLU network.\n",
    "\n",
    "One simple way to do this is by doing a Laplace approximation: We approximate the posterior as $\\mathcal{N}(\\theta \\mid \\theta_\\text{MAP}, H^{-1})$ where $\\theta_\\text{MAP}$ is the trained weights and $H := -\\nabla^2_\\theta \\log p(\\theta \\mid D)$ is the Hessian of the negative log-posterior.\n",
    "\n",
    "However, notice that if the network is large (has many parameters), then $H$ is huge since it scales quadratically to the number of parameters. Here, we make another simplifying assumption: We only apply the Laplace approximation at the _last-layer_. Assume that $\\phi$ is the first $L-1$ layers of the network and $w^L$ is the last-layer's weight vector. Then, the prediction is given by:\n",
    "\n",
    "$$\n",
    "    p(y = 1 \\mid x) \\approx \\int \\sigma({w^L}^\\top \\phi(x)) \\, \\mathcal{N}(w^L \\mid w^L_\\text{MAP}, \\Sigma) \\, dw^L \\, ,\n",
    "$$\n",
    "\n",
    "where $\\Sigma = (-\\nabla^2_{w^L} \\log p(\\theta \\mid D))^{-1}$ is the inverse of the particular sub-matrix of $H$ corresponding to the Hessian of the last-layer.\n",
    "\n",
    "The previous integral is intractable, so we need a further approximation. One can use the so-called \"probit approximation\" [1]. First, let's notice that we have an induced Gaussian over the \"pre-sigmoid\" network's output is $\\mathcal{N}({w^L}^\\top \\phi(x) \\mid m, v)$ where $m(x) := {w^L_\\text{MAP}}^\\top \\phi(x)$ is the usual MAP prediction and $v(x) := \\phi(x)^\\top \\Sigma \\phi(x)$ is the variance. Then, the probit approximation is simply:\n",
    "\n",
    "$$\n",
    "    p(y = 1 \\mid x) \\approx \\sigma \\left( \\frac{m(x)}{\\sqrt{1 + \\pi/8 \\, v(x)}} \\right) \\, .\n",
    "$$\n",
    "\n",
    "\n",
    "[1] MacKay, David JC. \"The evidence framework applied to classification networks.\" Neural computation 4.5 (1992): 720-736."
   ]
  },
  {
   "cell_type": "code",
   "execution_count": 10,
   "metadata": {},
   "outputs": [
    {
     "data": {
      "image/png": "[encoded data removed]",
      "text/plain": [
       "<Figure size 432x360 with 2 Axes>"
      ]
     },
     "metadata": {
      "needs_background": "light"
     },
     "output_type": "display_data"
    }
   ],
   "source": [
    "# Exact Hessian using PyTorch's autograd. Credits due to Felix Dangel.\n",
    "from hessian import exact_hessian\n",
    "\n",
    "\n",
    "W = list(model.parameters())[-1]\n",
    "shape_W = W.shape\n",
    "\n",
    "w_map = W.view(-1).data.numpy()\n",
    "\n",
    "\n",
    "def neg_log_posterior(var0):\n",
    "    # Negative-log-likelihood\n",
    "    nll = F.binary_cross_entropy_with_logits(model(X_train).squeeze(), y_train, reduction='sum')\n",
    "    # Negative-log-prior\n",
    "    nlp = 1/2 * W.flatten() @ (1/var0 * torch.eye(W.numel())) @ W.flatten()\n",
    "    \n",
    "    return nll + nlp\n",
    "\n",
    "\n",
    "def get_covariance(var0):\n",
    "    # Outputs the inverse-Hessian of the negative-log-posterior at the MAP estimate\n",
    "    # This is the posterior covariance\n",
    "    loss = neg_log_posterior(var0)\n",
    "    Lambda = exact_hessian(loss, [W])  # The Hessian of the negative log-posterior\n",
    "    Sigma = torch.inverse(Lambda).detach().numpy()\n",
    "    \n",
    "    return Sigma\n",
    "\n",
    "\n",
    "@torch.no_grad()\n",
    "def predict(x, Sigma):    \n",
    "    phi = model.feature_map(x).numpy()  # Feature vector of x\n",
    "    m = phi @ w_map  # MAP prediction\n",
    "\n",
    "    # \"Moderate\" the MAP prediction using the variance (see MacKay 1992 \"Evidence Framework ...\")\n",
    "    # This is an approximation of the expected sigmoid (the so-called \"probit approximation\")\n",
    "    v = np.diag(phi @ Sigma @ phi.T)\n",
    "    py = sigmoid(m/np.sqrt(1 + pi/8 * v))\n",
    "        \n",
    "    return py\n",
    "\n",
    "\n",
    "# The weight decay used for training is the Gaussian prior's precision\n",
    "# Here we work in term of variance, which is just 1/precision.\n",
    "var0 = 1/5e-4 \n",
    "\n",
    "# Get the posterior covariance and make prediction\n",
    "Sigma = get_covariance(var0)\n",
    "py = predict(X_test, Sigma)\n",
    "\n",
    "conf = np.maximum(py, 1-py)\n",
    "\n",
    "plot(X, Y, X1_test, X2_test, py, conf, size=size)"
   ]
  },
  {
   "cell_type": "code",
   "execution_count": null,
   "metadata": {},
   "outputs": [],
   "source": []
  }
 ],
 "metadata": {
  "kernelspec": {
   "display_name": "Python 3",
   "language": "python",
   "name": "python3"
  },
  "language_info": {
   "codemirror_mode": {
    "name": "ipython",
    "version": 3
   },
   "file_extension": ".py",
   "mimetype": "text/x-python",
   "name": "python",
   "nbconvert_exporter": "python",
   "pygments_lexer": "ipython3",
   "version": "3.7.4"
  }
 },
 "nbformat": 4,
 "nbformat_minor": 4
}
